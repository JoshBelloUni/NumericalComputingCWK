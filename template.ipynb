{
 "cells": [
  {
   "cell_type": "markdown",
   "metadata": {
    "tags": [
     "template"
    ]
   },
   "source": [
    "## Implementation\n",
    "\n",
    "[*Write code to be able to run three methods you have chosen for arbitrary initial conditions ($x(t=0), y(t=0)$), time step ($\\mathrm{d}t$), model parameters ($\\alpha, \\beta, \\gamma, \\delta$) and functions $f$ and $g$. [50 words]*]"
   ]
  },
  {
   "cell_type": "markdown",
   "metadata": {
    "tags": [
     "template"
    ]
   },
   "source": [
    "## Results\n",
    "\n",
    "[*Simulate and show results for each of the test cases suggested by your boss for a range of time steps until a final time $T$.\n",
    "For test case A, you should use $T = 2.5\\pi$ and (at least) $\\mathrm{d}t = T/100, T/200, T/400, T/800, T/1600$.\n",
    "For test case B, you should use $T = 30$ and (at least) $\\mathrm{d}t = T/100, T/200, T/400, T/800, T/1600$.\n",
    "You should demonstrate how solutions look for each method, and the accuracy and efficiency of each approach. [50 words]*]\n",
    "\n"
   ]
  },
  {
   "cell_type": "markdown",
   "metadata": {
    "tags": [
     "template"
    ]
   },
   "source": [
    "## Analysis\n",
    "\n",
    "[*Comment on the efficiency and accuracy of each approach. [250 words]*]"
   ]
  },
  {
   "cell_type": "markdown",
   "metadata": {
    "tags": [
     "template"
    ]
   },
   "source": [
    "## Conclusion\n",
    "\n",
    "[*Compare the methods that you have results for, and any other relevant methods from the module, and make a recommendation of which method you think is best. [300 words]*]"
   ]
  }
 ],
 "metadata": {
  "kernelspec": {
   "display_name": "Python 3",
   "language": "python",
   "name": "python3"
  },
  "language_info": {
   "codemirror_mode": {
    "name": "ipython",
    "version": 3
   },
   "file_extension": ".py",
   "mimetype": "text/x-python",
   "name": "python",
   "nbconvert_exporter": "python",
   "pygments_lexer": "ipython3",
   "version": "3.10.11"
  },
  "title": "COMP/XJCO2421 Numerical Computation Final coursework"
 },
 "nbformat": 4,
 "nbformat_minor": 4
}
